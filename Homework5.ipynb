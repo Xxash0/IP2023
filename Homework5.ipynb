{
 "cells": [
  {
   "cell_type": "code",
   "execution_count": 54,
   "metadata": {},
   "outputs": [
    {
     "name": "stdout",
     "output_type": "stream",
     "text": [
      "충분한 매칭이 발견되지 않았습니다 - 9/10\n",
      "충분한 매칭이 발견되지 않았습니다 - 9/10\n",
      "충분한 매칭이 발견되지 않았습니다 - 9/10\n",
      "충분한 매칭이 발견되지 않았습니다 - 9/10\n",
      "충분한 매칭이 발견되지 않았습니다 - 10/10\n",
      "충분한 매칭이 발견되지 않았습니다 - 9/10\n",
      "충분한 매칭이 발견되지 않았습니다 - 9/10\n",
      "충분한 매칭이 발견되지 않았습니다 - 8/10\n",
      "충분한 매칭이 발견되지 않았습니다 - 9/10\n",
      "충분한 매칭이 발견되지 않았습니다 - 7/10\n",
      "충분한 매칭이 발견되지 않았습니다 - 6/10\n",
      "충분한 매칭이 발견되지 않았습니다 - 8/10\n",
      "충분한 매칭이 발견되지 않았습니다 - 9/10\n",
      "충분한 매칭이 발견되지 않았습니다 - 9/10\n",
      "충분한 매칭이 발견되지 않았습니다 - 8/10\n",
      "충분한 매칭이 발견되지 않았습니다 - 8/10\n",
      "충분한 매칭이 발견되지 않았습니다 - 8/10\n",
      "충분한 매칭이 발견되지 않았습니다 - 9/10\n",
      "충분한 매칭이 발견되지 않았습니다 - 9/10\n",
      "충분한 매칭이 발견되지 않았습니다 - 9/10\n",
      "충분한 매칭이 발견되지 않았습니다 - 6/10\n",
      "충분한 매칭이 발견되지 않았습니다 - 7/10\n",
      "충분한 매칭이 발견되지 않았습니다 - 7/10\n"
     ]
    }
   ],
   "source": [
    "import numpy as np\n",
    "import cv2\n",
    "from matplotlib import pyplot as plt\n",
    "\n",
    "# video read\n",
    "cap = cv2.VideoCapture('matchHomography/monitoring_720p.avi')  # trainImage\n",
    "\n",
    "# query image read\n",
    "img1 = cv2.imread('matchHomography/monitoring_720p.avi_000001291.png', 0)  # queryImage\n",
    "\n",
    "# select roi from img1\n",
    "x, y, w, h = 581,137,53,49  # ROI에 맞게 조정\n",
    "roi = img1[y:y+h, x:x+w]\n",
    "\n",
    "# SIFT 검출기 초기화\n",
    "sift = cv2.SIFT_create()\n",
    "\n",
    "# img1에서 SIFT로 키포인트 및 디스크립터 찾기\n",
    "kp1, des1 = sift.detectAndCompute(roi, None)\n",
    "\n",
    "FLANN_INDEX_KDTREE = 0\n",
    "index_params = dict(algorithm=FLANN_INDEX_KDTREE, trees=5)\n",
    "search_params = dict(checks=50)\n",
    "flann = cv2.FlannBasedMatcher(index_params, search_params)\n",
    "\n",
    "while True:\n",
    "    # 비디오에서 프레임 읽기\n",
    "    ret, img2 = cap.read()\n",
    "    if not ret:\n",
    "        break\n",
    "\n",
    "    # 현재 프레임에서 SIFT로 키포인트 및 디스크립터 찾기\n",
    "    kp2, des2 = sift.detectAndCompute(img2, None)\n",
    "\n",
    "    # FLANN 매칭 수행\n",
    "    matches = flann.knnMatch(des1, des2, k=2)\n",
    "\n",
    "    # Lowe의 비율 테스트를 기반으로 좋은 매칭만 저장\n",
    "    good = []\n",
    "    for m, n in matches:\n",
    "        if m.distance < 0.9 * n.distance:\n",
    "            good.append(m)\n",
    "\n",
    "    MIN_MATCH_COUNT = 10\n",
    "    if len(good) > MIN_MATCH_COUNT:\n",
    "        src_pts = np.float32([kp1[m.queryIdx].pt for m in good]).reshape(-1, 1, 2)\n",
    "        dst_pts = np.float32([kp2[m.trainIdx].pt for m in good]).reshape(-1, 1, 2)\n",
    "        M, mask = cv2.findHomography(src_pts, dst_pts, cv2.RANSAC, 5.0)\n",
    "        matchesMask = mask.ravel().tolist()\n",
    "        h, w = roi.shape\n",
    "        pts = np.float32([[0, 0], [0, h - 1], [w - 1, h - 1], [w - 1, 0]]).reshape(-1, 1, 2)\n",
    "        dst = cv2.perspectiveTransform(pts, M)\n",
    "        img2 = cv2.polylines(img2, [np.int32(dst)], True, 255, 3, cv2.LINE_AA)\n",
    "    else:\n",
    "        print(\"충분한 매칭이 발견되지 않았습니다 - %d/%d\" % (len(good), MIN_MATCH_COUNT))\n",
    "        matchesMask = None\n",
    "\n",
    "    # 매칭 시각화\n",
    "    draw_params = dict(matchColor=(0, 255, 0), singlePointColor=None, matchesMask=matchesMask, flags=2)\n",
    "    img3 = cv2.drawMatches(roi, kp1, img2, kp2, good, None, **draw_params)\n",
    "    \n",
    "    # 프레임 표시\n",
    "    cv2.imshow('Matching result', img3)\n",
    "\n",
    "    # 'q' 키가 눌리면 루프 종료\n",
    "    if cv2.waitKey(1) & 0xFF == ord('q'):\n",
    "        break\n",
    "\n",
    "# 비디오 캡처 객체 해제\n",
    "cap.release()\n",
    "\n",
    "# 모든 OpenCV 창 닫기\n",
    "cv2.destroyAllWindows()\n"
   ]
  },
  {
   "cell_type": "code",
   "execution_count": 48,
   "metadata": {},
   "outputs": [
    {
     "data": {
      "image/png": "[encoded data removed]",
      "text/plain": [
       "<Figure size 640x480 with 1 Axes>"
      ]
     },
     "metadata": {},
     "output_type": "display_data"
    }
   ],
   "source": [
    "import numpy as np\n",
    "import cv2\n",
    "from matplotlib import pyplot as plt\n",
    "\n",
    "cap = cv2.VideoCapture('matchHomography/monitoring_720p.avi')  # trainImage\n",
    "\n",
    "# query image read\n",
    "img1 = cv2.imread('matchHomography/monitoring_720p.avi_000001291.png', 0)  # queryImage\n",
    "\n",
    "# select roi from img1\n",
    "x, y, w, h = 581,137,50,47 # ROI에 맞게 조정\n",
    "roi = img1[y:y+h, x:x+w]\n",
    "plt.imshow(roi)\n",
    "plt.show()"
   ]
  }
 ],
 "metadata": {
  "kernelspec": {
   "display_name": "IP2023",
   "language": "python",
   "name": "python3"
  },
  "language_info": {
   "codemirror_mode": {
    "name": "ipython",
    "version": 3
   },
   "file_extension": ".py",
   "mimetype": "text/x-python",
   "name": "python",
   "nbconvert_exporter": "python",
   "pygments_lexer": "ipython3",
   "version": "3.8.17"
  }
 },
 "nbformat": 4,
 "nbformat_minor": 2
}
