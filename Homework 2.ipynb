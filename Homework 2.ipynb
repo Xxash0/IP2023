{
 "cells": [
  {
   "cell_type": "markdown",
   "metadata": {},
   "source": [
    "homework2"
   ]
  },
  {
   "cell_type": "code",
   "execution_count": 6,
   "metadata": {},
   "outputs": [],
   "source": [
    "import cv2\n",
    "import numpy as np\n",
    "\n",
    "cap = cv2.VideoCapture(\"tracking1.mp4\")\n",
    "\n",
    "while(cap.isOpened()):\n",
    "    res, frame = cap.read() \n",
    "\n",
    "    if res==False: \n",
    "        break\n",
    "\n",
    "    hsv = cv2.cvtColor(frame, cv2.COLOR_BGR2HSV)\n",
    "\n",
    "    lower_blue = np.array([130,130,0])\n",
    "    upper_blue = np.array([210,210,255])\n",
    "\n",
    "    mask = cv2.inRange(hsv, lower_blue, upper_blue)\n",
    "\n",
    "    res = cv2.bitwise_and(frame,frame, mask= mask)\n",
    "    \n",
    "    M = cv2.moments(mask) \n",
    "    X = int(M[\"m10\"] / M[\"m00\"])\n",
    "    Y = int(M[\"m01\"] / M[\"m00\"]) \n",
    "    \n",
    "    cv2.circle(frame, (X,Y), 5, (0, 0, 255), -1)\n",
    "    cv2.imshow('frame',frame) #프레임 창\n",
    "    cv2.imshow('mask',mask) #마스크 창\n",
    "    cv2.imshow('res',res) #res 창\n",
    "\n",
    "    k = cv2.waitKey(25) & 0xFF\n",
    "    if k == 27:\n",
    "        break\n",
    "\n",
    "cv2.destroyAllWindows()"
   ]
  }
 ],
 "metadata": {
  "kernelspec": {
   "display_name": "base",
   "language": "python",
   "name": "python3"
  },
  "language_info": {
   "codemirror_mode": {
    "name": "ipython",
    "version": 3
   },
   "file_extension": ".py",
   "mimetype": "text/x-python",
   "name": "python",
   "nbconvert_exporter": "python",
   "pygments_lexer": "ipython3",
   "version": "3.8.18"
  },
  "orig_nbformat": 4
 },
 "nbformat": 4,
 "nbformat_minor": 2
}
