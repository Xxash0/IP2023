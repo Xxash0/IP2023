{
 "cells": [
  {
   "cell_type": "code",
   "execution_count": 1,
   "metadata": {},
   "outputs": [
    {
     "ename": "error",
     "evalue": "OpenCV(4.8.0) D:\\a\\opencv-python\\opencv-python\\opencv\\modules\\highgui\\src\\window.cpp:866: error: (-215:Assertion failed) trackbar in function 'cv::getTrackbarPos'\n",
     "output_type": "error",
     "traceback": [
      "\u001b[1;31m---------------------------------------------------------------------------\u001b[0m",
      "\u001b[1;31merror\u001b[0m                                     Traceback (most recent call last)",
      "\u001b[1;32mc:\\Users\\a\\Desktop\\IP2023\\Programming-Computer-Vision-with-Python-Notebook-master\\HomeWork 1.ipynb Cell 1\u001b[0m line \u001b[0;36m3\n\u001b[0;32m     <a href='vscode-notebook-cell:/c%3A/Users/a/Desktop/IP2023/Programming-Computer-Vision-with-Python-Notebook-master/HomeWork%201.ipynb#W0sZmlsZQ%3D%3D?line=30'>31</a>\u001b[0m \u001b[39mwhile\u001b[39;00m(\u001b[39m1\u001b[39m):\n\u001b[0;32m     <a href='vscode-notebook-cell:/c%3A/Users/a/Desktop/IP2023/Programming-Computer-Vision-with-Python-Notebook-master/HomeWork%201.ipynb#W0sZmlsZQ%3D%3D?line=31'>32</a>\u001b[0m     cv2\u001b[39m.\u001b[39mimshow(\u001b[39m'\u001b[39m\u001b[39mimage\u001b[39m\u001b[39m'\u001b[39m,img)\n\u001b[1;32m---> <a href='vscode-notebook-cell:/c%3A/Users/a/Desktop/IP2023/Programming-Computer-Vision-with-Python-Notebook-master/HomeWork%201.ipynb#W0sZmlsZQ%3D%3D?line=32'>33</a>\u001b[0m     value \u001b[39m=\u001b[39m cv2\u001b[39m.\u001b[39;49mgetTrackbarPos(\u001b[39m'\u001b[39;49m\u001b[39mvalue\u001b[39;49m\u001b[39m'\u001b[39;49m,\u001b[39m'\u001b[39;49m\u001b[39mimage\u001b[39;49m\u001b[39m'\u001b[39;49m)\n\u001b[0;32m     <a href='vscode-notebook-cell:/c%3A/Users/a/Desktop/IP2023/Programming-Computer-Vision-with-Python-Notebook-master/HomeWork%201.ipynb#W0sZmlsZQ%3D%3D?line=34'>35</a>\u001b[0m     \u001b[39mif\u001b[39;00m cv2\u001b[39m.\u001b[39mwaitKey(\u001b[39m20\u001b[39m) \u001b[39m&\u001b[39m \u001b[39m0xFF\u001b[39m \u001b[39m==\u001b[39m \u001b[39m27\u001b[39m:\n\u001b[0;32m     <a href='vscode-notebook-cell:/c%3A/Users/a/Desktop/IP2023/Programming-Computer-Vision-with-Python-Notebook-master/HomeWork%201.ipynb#W0sZmlsZQ%3D%3D?line=35'>36</a>\u001b[0m         \u001b[39mbreak\u001b[39;00m\n",
      "\u001b[1;31merror\u001b[0m: OpenCV(4.8.0) D:\\a\\opencv-python\\opencv-python\\opencv\\modules\\highgui\\src\\window.cpp:866: error: (-215:Assertion failed) trackbar in function 'cv::getTrackbarPos'\n"
     ]
    }
   ],
   "source": [
    "import cv2\n",
    "import numpy as np\n",
    "import random as rd\n",
    "def nothing(x):\n",
    "    pass\n",
    "drawing = False \n",
    "ix,iy = -1,-1\n",
    "\n",
    "def draw_circle(event,x,y,flags,param):\n",
    "    global ix,iy,drawing,value,img\n",
    "    if event == cv2.EVENT_LBUTTONDOWN:\n",
    "        img = cv2.imread('image.jpg',1)\n",
    "        drawing = True\n",
    "        ix,iy = x,y\n",
    "        font = cv2.FONT_HERSHEY_SIMPLEX\n",
    "        cv2.putText(img,'Mouse position ('+str(x)+','+str(y)+')',(10,20),font,1,(255,255,255),2,cv2.LINE_AA)\n",
    "    elif event == cv2.EVENT_MOUSEMOVE:\n",
    "        if drawing == True:\n",
    "            img[iy:y,ix:x,0]=value\n",
    "            img[iy:y,ix:x,1]=value\n",
    "    elif event == cv2.EVENT_LBUTTONUP:\n",
    "        drawing = False\n",
    "        font = cv2.FONT_HERSHEY_SIMPLEX\n",
    "        cv2.putText(img,'Mouse position ('+str(ix)+','+str(iy)+')'+' - ('+str(x)+','+str(y)+')',(10,20),font,1,(255,255,255),2,cv2.LINE_AA)\n",
    "\n",
    "\n",
    "img = cv2.imread('image.jpg',1)\n",
    "cv2.namedWindow('image')\n",
    "cv2.setMouseCallback('image',draw_circle)\n",
    "cv2.createTrackbar('value','image',0,255,nothing)\n",
    "while(1):\n",
    "    cv2.imshow('image',img)\n",
    "    value = cv2.getTrackbarPos('value','image')\n",
    "    \n",
    "    if cv2.waitKey(20) & 0xFF == 27:\n",
    "        break\n",
    "cv2.destroyAllWindows()\n"
   ]
  },
  {
   "cell_type": "code",
   "execution_count": 22,
   "metadata": {},
   "outputs": [],
   "source": [
    "\"\"\"\n",
    "def draw_circle(event,x,y,flags,param):\n",
    "    global img\n",
    "    if event == cv2.EVENT_LBUTTONDBLCLK:\n",
    "        img = cv2.imread('image2.jpg',1)\n",
    "        #img[:50,:,:]=0#[:,:,?] 0:b,1:g,b,2:r   =0:blak, 255 색깔 \n",
    "        #img=np.zeros((512,512,3),np.uint8) 이미지 전체 리셋\n",
    "        cv2.circle(img,(x,y),30,(rd.randrange(0,255),rd.randrange(0,255),rd.randrange(0,255)),3)\n",
    "        font = cv2.FONT_HERSHEY_SIMPLEX\n",
    "        cv2.putText(img,'mouse-('+str(x)+','+str(y)+')',(10,40),font,1,(255,255,255),2,cv2.LINE_AA)\n",
    "\"\"\"\n",
    "\n",
    "        \n"
   ]
  },
  {
   "cell_type": "code",
   "execution_count": 32,
   "metadata": {},
   "outputs": [],
   "source": [
    "\n",
    "\n",
    "#img[:100,:,2]=255#[:,:,?] 0:b,1:g,b,2:r\n"
   ]
  }
 ],
 "metadata": {
  "kernelspec": {
   "display_name": "IP2023",
   "language": "python",
   "name": "python3"
  },
  "language_info": {
   "codemirror_mode": {
    "name": "ipython",
    "version": 3
   },
   "file_extension": ".py",
   "mimetype": "text/x-python",
   "name": "python",
   "nbconvert_exporter": "python",
   "pygments_lexer": "ipython3",
   "version": "3.8.18"
  },
  "orig_nbformat": 4
 },
 "nbformat": 4,
 "nbformat_minor": 2
}
